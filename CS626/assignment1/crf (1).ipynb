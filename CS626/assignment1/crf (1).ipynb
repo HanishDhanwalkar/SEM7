{
  "cells": [
    {
      "cell_type": "code",
      "execution_count": null,
      "metadata": {
        "colab": {
          "base_uri": "https://localhost:8080/"
        },
        "id": "9wosSvwfd7HA",
        "outputId": "709fc451-1579-42c6-95ca-76e0abb91ad8"
      },
      "outputs": [
        {
          "name": "stdout",
          "output_type": "stream",
          "text": [
            "Collecting sklearn-crfsuite\n",
            "  Downloading sklearn_crfsuite-0.5.0-py2.py3-none-any.whl.metadata (4.9 kB)\n",
            "Collecting python-crfsuite>=0.9.7 (from sklearn-crfsuite)\n",
            "  Downloading python_crfsuite-0.9.10-cp310-cp310-manylinux_2_17_x86_64.manylinux2014_x86_64.whl.metadata (4.2 kB)\n",
            "Requirement already satisfied: scikit-learn>=0.24.0 in /usr/local/lib/python3.10/dist-packages (from sklearn-crfsuite) (1.5.2)\n",
            "Requirement already satisfied: tabulate>=0.4.2 in /usr/local/lib/python3.10/dist-packages (from sklearn-crfsuite) (0.9.0)\n",
            "Requirement already satisfied: tqdm>=2.0 in /usr/local/lib/python3.10/dist-packages (from sklearn-crfsuite) (4.66.5)\n",
            "Requirement already satisfied: numpy>=1.19.5 in /usr/local/lib/python3.10/dist-packages (from scikit-learn>=0.24.0->sklearn-crfsuite) (1.26.4)\n",
            "Requirement already satisfied: scipy>=1.6.0 in /usr/local/lib/python3.10/dist-packages (from scikit-learn>=0.24.0->sklearn-crfsuite) (1.13.1)\n",
            "Requirement already satisfied: joblib>=1.2.0 in /usr/local/lib/python3.10/dist-packages (from scikit-learn>=0.24.0->sklearn-crfsuite) (1.4.2)\n",
            "Requirement already satisfied: threadpoolctl>=3.1.0 in /usr/local/lib/python3.10/dist-packages (from scikit-learn>=0.24.0->sklearn-crfsuite) (3.5.0)\n",
            "Downloading sklearn_crfsuite-0.5.0-py2.py3-none-any.whl (10 kB)\n",
            "Downloading python_crfsuite-0.9.10-cp310-cp310-manylinux_2_17_x86_64.manylinux2014_x86_64.whl (1.1 MB)\n",
            "\u001b[2K   \u001b[90m━━━━━━━━━━━━━━━━━━━━━━━━━━━━━━━━━━━━━━━━\u001b[0m \u001b[32m1.1/1.1 MB\u001b[0m \u001b[31m16.0 MB/s\u001b[0m eta \u001b[36m0:00:00\u001b[0m\n",
            "\u001b[?25hInstalling collected packages: python-crfsuite, sklearn-crfsuite\n",
            "Successfully installed python-crfsuite-0.9.10 sklearn-crfsuite-0.5.0\n"
          ]
        }
      ],
      "source": [
        "!pip install sklearn-crfsuite"
      ]
    },
    {
      "cell_type": "code",
      "execution_count": null,
      "metadata": {
        "id": "PxiB-aRpdi2E"
      },
      "outputs": [],
      "source": [
        "import nltk\n",
        "import sklearn\n",
        "from sklearn.model_selection import cross_val_score, KFold\n",
        "from sklearn.metrics import classification_report, confusion_matrix, accuracy_score\n",
        "from nltk.corpus import brown\n",
        "import matplotlib.pyplot as plt\n",
        "import seaborn as sns\n",
        "import numpy as np\n",
        "from sklearn_crfsuite import CRF  # If using CRFSuite for implementation\n",
        "from sklearn.metrics import fbeta_score, accuracy_score, classification_report"
      ]
    },
    {
      "cell_type": "code",
      "execution_count": null,
      "metadata": {
        "colab": {
          "base_uri": "https://localhost:8080/"
        },
        "id": "b-7nX9Wzdtw9",
        "outputId": "efe04ec7-50bf-4a60-94df-2946cc41a119"
      },
      "outputs": [
        {
          "name": "stderr",
          "output_type": "stream",
          "text": [
            "[nltk_data] Downloading package brown to /root/nltk_data...\n",
            "[nltk_data]   Unzipping corpora/brown.zip.\n",
            "[nltk_data] Downloading package universal_tagset to /root/nltk_data...\n",
            "[nltk_data]   Unzipping taggers/universal_tagset.zip.\n"
          ]
        }
      ],
      "source": [
        "nltk.download('brown')\n",
        "nltk.download('universal_tagset')\n",
        "\n",
        "# Load the Brown corpus with the universal tagset\n",
        "brown_sents = brown.tagged_sents(tagset='universal')"
      ]
    },
    {
      "cell_type": "code",
      "execution_count": null,
      "metadata": {
        "id": "yc7hiGhDdttb"
      },
      "outputs": [],
      "source": [
        "def word2features(sent, i):\n",
        "    word = sent[i][0]\n",
        "    postag = sent[i][1]\n",
        "\n",
        "    features = {\n",
        "        'bias': 1.0,\n",
        "        'word.lower()': word.lower(),\n",
        "        'word[-3:]': word[-3:],\n",
        "        'word[-2:]': word[-2:],\n",
        "        'word.isupper()': word.isupper(),\n",
        "        'word.istitle()': word.istitle(),\n",
        "        'word.isdigit()': word.isdigit(),\n",
        "    }\n",
        "    if i > 0:\n",
        "        word1 = sent[i-1][0]\n",
        "        postag1 = sent[i-1][1]\n",
        "        features.update({\n",
        "            '-1:word.lower()': word1.lower(),\n",
        "            '-1:word.istitle()': word1.istitle(),\n",
        "            '-1:word.isupper()': word1.isupper(),\n",
        "        })\n",
        "    else:\n",
        "        features['BOS'] = True  # Beginning of sentence\n",
        "\n",
        "    if i < len(sent)-1:\n",
        "        word1 = sent[i+1][0]\n",
        "        postag1 = sent[i+1][1]\n",
        "        features.update({\n",
        "            '+1:word.lower()': word1.lower(),\n",
        "            '+1:word.istitle()': word1.istitle(),\n",
        "            '+1:word.isupper()': word1.isupper(),\n",
        "        })\n",
        "    else:\n",
        "        features['EOS'] = True  # End of sentence\n",
        "\n",
        "    return features\n",
        "\n",
        "def sent2features(sent):\n",
        "    return [word2features(sent, i) for i in range(len(sent))]\n",
        "\n",
        "def sent2labels(sent):\n",
        "    return [label for _, label in sent]\n",
        "\n",
        "def sent2tokens(sent):\n",
        "    return [token for token, _ in sent]\n"
      ]
    },
    {
      "cell_type": "code",
      "execution_count": null,
      "metadata": {
        "colab": {
          "base_uri": "https://localhost:8080/"
        },
        "id": "FAL9rNOldtrC",
        "outputId": "e7a15a7a-93dc-4267-9c48-9c7ceb0cbc57"
      },
      "outputs": [
        {
          "name": "stdout",
          "output_type": "stream",
          "text": [
            "Accuracy:  0.9735540821217447\n",
            "              precision    recall  f1-score   support\n",
            "\n",
            "           .      1.000     1.000     1.000     30115\n",
            "         ADJ      0.928     0.907     0.918     18941\n",
            "         ADP      0.980     0.985     0.982     31048\n",
            "         ADV      0.941     0.938     0.940     10971\n",
            "        CONJ      0.993     0.997     0.995      7662\n",
            "         DET      0.995     0.996     0.996     29455\n",
            "        NOUN      0.968     0.973     0.971     66790\n",
            "         NUM      0.983     0.950     0.966      3974\n",
            "        PRON      0.990     0.990     0.990      8204\n",
            "         PRT      0.943     0.936     0.939      5791\n",
            "        VERB      0.969     0.974     0.972     37128\n",
            "           X      0.654     0.431     0.519       281\n",
            "\n",
            "    accuracy                          0.974    250360\n",
            "   macro avg      0.945     0.923     0.932    250360\n",
            "weighted avg      0.973     0.974     0.973    250360\n",
            "\n",
            "F2 Score (Macro): 0.9264080716890916\n",
            "F0.5 Score (Macro): 0.9394842708480704\n",
            "Accuracy:  0.9727762521880169\n",
            "              precision    recall  f1-score   support\n",
            "\n",
            "           .      1.000     1.000     1.000     29737\n",
            "         ADJ      0.932     0.915     0.924     19684\n",
            "         ADP      0.979     0.983     0.981     32275\n",
            "         ADV      0.950     0.926     0.938     12029\n",
            "        CONJ      0.996     0.997     0.996      8641\n",
            "         DET      0.995     0.997     0.996     30384\n",
            "        NOUN      0.963     0.973     0.968     60683\n",
            "         NUM      0.984     0.945     0.964      3116\n",
            "        PRON      0.994     0.987     0.991      8586\n",
            "         PRT      0.935     0.947     0.941      5685\n",
            "        VERB      0.969     0.969     0.969     38000\n",
            "           X      0.658     0.364     0.468       264\n",
            "\n",
            "    accuracy                          0.973    249084\n",
            "   macro avg      0.946     0.917     0.928    249084\n",
            "weighted avg      0.973     0.973     0.973    249084\n",
            "\n",
            "F2 Score (Macro): 0.9208355999259513\n",
            "F0.5 Score (Macro): 0.9375548281403784\n",
            "Accuracy:  0.9761161702454605\n",
            "              precision    recall  f1-score   support\n",
            "\n",
            "           .      0.999     1.000     1.000     30720\n",
            "         ADJ      0.944     0.927     0.935     22003\n",
            "         ADP      0.984     0.983     0.983     38556\n",
            "         ADV      0.955     0.936     0.945     12105\n",
            "        CONJ      0.995     0.997     0.996      9318\n",
            "         DET      0.994     0.996     0.995     32899\n",
            "        NOUN      0.967     0.977     0.972     68470\n",
            "         NUM      0.984     0.954     0.969      4498\n",
            "        PRON      0.992     0.984     0.988      8089\n",
            "         PRT      0.937     0.958     0.948      5685\n",
            "        VERB      0.973     0.977     0.975     40535\n",
            "           X      0.837     0.404     0.545       445\n",
            "\n",
            "    accuracy                          0.976    273323\n",
            "   macro avg      0.963     0.925     0.938    273323\n",
            "weighted avg      0.976     0.976     0.976    273323\n",
            "\n",
            "F2 Score (Macro): 0.9289771679956752\n",
            "F0.5 Score (Macro): 0.9505509338314894\n",
            "Accuracy:  0.9765031733525394\n",
            "              precision    recall  f1-score   support\n",
            "\n",
            "           .      0.999     1.000     1.000     27910\n",
            "         ADJ      0.933     0.918     0.925     13238\n",
            "         ADP      0.973     0.983     0.978     24453\n",
            "         ADV      0.949     0.929     0.939     10835\n",
            "        CONJ      0.995     0.997     0.996      6556\n",
            "         DET      0.993     0.994     0.994     24251\n",
            "        NOUN      0.970     0.979     0.974     45585\n",
            "         NUM      0.982     0.963     0.972      2214\n",
            "        PRON      0.992     0.988     0.990     10671\n",
            "         PRT      0.953     0.935     0.944      6155\n",
            "        VERB      0.979     0.980     0.980     34796\n",
            "           X      0.690     0.279     0.397       215\n",
            "\n",
            "    accuracy                          0.977    206879\n",
            "   macro avg      0.951     0.912     0.924    206879\n",
            "weighted avg      0.976     0.977     0.976    206879\n",
            "\n",
            "F2 Score (Macro): 0.9159749371301779\n",
            "F0.5 Score (Macro): 0.9366409931371996\n",
            "Accuracy:  0.9724257213047933\n",
            "              precision    recall  f1-score   support\n",
            "\n",
            "           .      1.000     1.000     1.000     29083\n",
            "         ADJ      0.906     0.892     0.899      9855\n",
            "         ADP      0.967     0.974     0.971     18434\n",
            "         ADV      0.930     0.925     0.928     10299\n",
            "        CONJ      0.990     0.996     0.993      5974\n",
            "         DET      0.989     0.988     0.988     20030\n",
            "        NOUN      0.964     0.971     0.968     34030\n",
            "         NUM      0.909     0.992     0.948      1072\n",
            "        PRON      0.991     0.987     0.989     13784\n",
            "         PRT      0.946     0.920     0.933      6513\n",
            "        VERB      0.979     0.981     0.980     32291\n",
            "           X      0.577     0.227     0.325       181\n",
            "\n",
            "    accuracy                          0.972    181546\n",
            "   macro avg      0.929     0.904     0.910    181546\n",
            "weighted avg      0.972     0.972     0.972    181546\n",
            "\n",
            "F2 Score (Macro): 0.9059767959653411\n",
            "F0.5 Score (Macro): 0.918564167858699\n"
          ]
        }
      ],
      "source": [
        "from sklearn.metrics import accuracy_score, classification_report, precision_recall_fscore_support\n",
        "from sklearn.model_selection import KFold\n",
        "from sklearn_crfsuite import CRF  # Keep CRF from sklearn-crfsuite\n",
        "\n",
        "# Assuming you have already defined sent2features and sent2labels\n",
        "\n",
        "kf = KFold(n_splits=5)\n",
        "\n",
        "X = [sent2features(s) for s in brown_sents]\n",
        "y = [sent2labels(s) for s in brown_sents]\n",
        "\n",
        "# Perform 5-fold cross-validation\n",
        "accuracies = []\n",
        "all_precision = []\n",
        "all_recall = []\n",
        "all_f1 = []\n",
        "all_f2 = []\n",
        "all_f0_5 = []\n",
        "all_true_tags = []\n",
        "all_predicted_tags = []\n",
        "\n",
        "for train_index, test_index in kf.split(brown_sents):\n",
        "    X_train, X_test = [X[i] for i in train_index], [X[i] for i in test_index]\n",
        "    y_train, y_test = [y[i] for i in train_index], [y[i] for i in test_index]\n",
        "\n",
        "    crf = CRF(algorithm='lbfgs', c1=0.1, c2=0.1, max_iterations=100)\n",
        "    crf.fit(X_train, y_train)\n",
        "\n",
        "    y_pred = crf.predict(X_test)\n",
        "\n",
        "    # Flatten the true and predicted labels\n",
        "    y_test_flat = [label for sent in y_test for label in sent]\n",
        "    y_pred_flat = [label for sent in y_pred for label in sent]\n",
        "\n",
        "    # Print accuracy and classification report\n",
        "    print(\"Accuracy: \", accuracy_score(y_test_flat, y_pred_flat))\n",
        "    print(classification_report(y_test_flat, y_pred_flat, digits=3))\n",
        "\n",
        "    precision, recall, f1, _ = precision_recall_fscore_support(y_test_flat, y_pred_flat, average=None, labels=sorted(set(y_test_flat)))\n",
        "\n",
        "    # Accumulate true and predicted tags for confusion matrix\n",
        "    all_true_tags.extend(y_test_flat)\n",
        "    all_predicted_tags.extend(y_pred_flat)\n",
        "\n",
        "    # Calculate F2 score\n",
        "    f2_score = fbeta_score(y_test_flat, y_pred_flat, beta=2, average='macro')\n",
        "    print(\"F2 Score (Macro):\", f2_score)\n",
        "\n",
        "    # Calculate F0.5 score\n",
        "    f05_score = fbeta_score(y_test_flat, y_pred_flat, beta=0.5, average='macro')\n",
        "    print(\"F0.5 Score (Macro):\", f05_score)\n",
        "\n",
        "    # Accumulate scores\n",
        "    all_precision.append(precision)\n",
        "    all_recall.append(recall)\n",
        "    all_f1.append(f1)\n",
        "    all_f2.append(f2_score)\n",
        "    all_f0_5.append(f05_score)\n",
        "    accuracies.append(accuracy_score(y_test_flat, y_pred_flat))"
      ]
    },
    {
      "cell_type": "code",
      "execution_count": null,
      "metadata": {
        "colab": {
          "base_uri": "https://localhost:8080/"
        },
        "id": "IJhhZx8yv3rN",
        "outputId": "a3843d29-c99e-4ab7-d9f2-ffb2513c7115"
      },
      "outputs": [
        {
          "name": "stdout",
          "output_type": "stream",
          "text": [
            "Per-POS Accuracy:\n",
            " {'.': 0.999925456578457, 'ADJ': 0.9141553493149867, 'ADP': 0.9822886589392537, 'ADV': 0.9309731680862036, 'CONJ': 0.9966449110115069, 'DET': 0.9946649734708325, 'NOUN': 0.9749090935483636, 'NUM': 0.955089417775985, 'PRON': 0.9873109822840231, 'PRT': 0.9386167823259244, 'VERB': 0.9761039671682626, 'X': 0.3593073593073593}\n",
            "\n",
            "Average Precision per POS tag:\n",
            " {'.': 0.9996858042093457, 'ADJ': 0.9285849316819661, 'ADP': 0.9764674465845854, 'ADV': 0.9447878033701951, 'CONJ': 0.9937897240167295, 'DET': 0.9935681594620837, 'NOUN': 0.9663366426169808, 'NUM': 0.9681854341848348, 'PRON': 0.9920284680502943, 'PRT': 0.9428908091132939, 'VERB': 0.9739102099692516, 'X': 0.6831835128202332}\n",
            "\n",
            "Average Recall per POS tag:\n",
            " {'.': 0.9999273375668715, 'ADJ': 0.9118343237013686, 'ADP': 0.981647290180196, 'ADV': 0.9308848042833147, 'CONJ': 0.99658584910815, 'DET': 0.9941323248144476, 'NOUN': 0.9747607595489963, 'NUM': 0.9606530988375832, 'PRON': 0.9873220628833016, 'PRT': 0.9392486872372571, 'VERB': 0.9763188181500079, 'X': 0.34086496646473524}\n",
            "\n",
            "Average F1-Score per POS tag:\n",
            " {'.': 0.9998065321276991, 'ADJ': 0.9201318369534619, 'ADP': 0.9790469376554108, 'ADV': 0.937765021029314, 'CONJ': 0.9951850384142285, 'DET': 0.9938497111217407, 'NOUN': 0.970529510577606, 'NUM': 0.9638570494748329, 'PRON': 0.9896680001350588, 'PRT': 0.9409786388074218, 'VERB': 0.9751123225143953, 'X': 0.4511616703753427}\n",
            "Average Precision: 0.9469515788399829\n",
            "Average Recall: 0.9161816935646857\n",
            "Average Accuracy: 0.974275079842511\n",
            "Average F1-score: 0.9264243557655426\n",
            "Average F2 Score: 0.9741800717723927\n",
            "Average F0.5 Score: 0.9740313853583931\n"
          ]
        }
      ],
      "source": [
        "import pandas as pd\n",
        "# Calculate average precision, recall, F1-score\n",
        "avg_precision = np.mean(all_precision, axis=0)\n",
        "avg_recall = np.mean(all_recall, axis=0)\n",
        "avg_f1 = np.mean(all_f1, axis=0)\n",
        "avg_accuracy = np.mean(accuracies)\n",
        "avg_f2 = np.mean(all_f2)\n",
        "avg_f0_5 = np.mean(all_f0_5)\n",
        "\n",
        "labels = sorted(set(all_true_tags))  # Get all unique tags\n",
        "conf_matrix = confusion_matrix(all_true_tags, all_predicted_tags, labels=labels)\n",
        "conf_matrix_df = pd.DataFrame(conf_matrix, index=labels, columns=labels)\n",
        "per_pos_accuracy = {}\n",
        "for i, tag in enumerate(labels):\n",
        "    true_positives = conf_matrix[i, i]\n",
        "    total_relevant = np.sum(conf_matrix[i, :])\n",
        "    per_pos_accuracy[tag] = true_positives / total_relevant if total_relevant > 0 else 0\n",
        "\n",
        "# Print average scores\n",
        "print(\"Per-POS Accuracy:\\n\", per_pos_accuracy)\n",
        "print(\"\\nAverage Precision per POS tag:\\n\", dict(zip(conf_matrix_df.index, avg_precision)))\n",
        "print(\"\\nAverage Recall per POS tag:\\n\", dict(zip(conf_matrix_df.index, avg_recall)))\n",
        "print(\"\\nAverage F1-Score per POS tag:\\n\", dict(zip(conf_matrix_df.index, avg_f1)))\n",
        "print(\"Average Precision:\", np.mean(avg_precision))\n",
        "print(\"Average Recall:\", np.mean(avg_recall))\n",
        "print(\"Average Accuracy:\", np.mean(avg_accuracy))\n",
        "print(\"Average F1-score:\", np.mean(avg_f1))\n",
        "print(\"Average F2 Score:\", avg_f2)\n",
        "print(\"Average F0.5 Score:\", avg_f0_5)\n",
        "\n",
        "overall_precision, overall_recall, overall_f1, _ = precision_recall_fscore_support(\n",
        "    all_true_tags, all_predicted_tags, average='macro'\n",
        ")\n",
        "\n",
        "# Calculate F2 score (beta=2) and F0.5 score (beta=0.5)\n",
        "_, _, f2_score, _ = precision_recall_fscore_support(\n",
        "    all_true_tags, all_predicted_tags, average='macro', beta=2\n",
        ")\n",
        "\n",
        "_, _, f0_5_score, _ = precision_recall_fscore_support(\n",
        "    all_true_tags, all_predicted_tags, average='macro', beta=0.5\n",
        ")"
      ]
    },
    {
      "cell_type": "code",
      "execution_count": null,
      "metadata": {
        "colab": {
          "base_uri": "https://localhost:8080/"
        },
        "id": "84qNrYqZ0An4",
        "outputId": "0b1e5496-007e-4b52-fc77-d95b11e84e7b"
      },
      "outputs": [
        {
          "name": "stdout",
          "output_type": "stream",
          "text": [
            "Overall F1-Score: 0.9291\n",
            "Overall F2-Score: 0.9215\n",
            "Overall F0.5-Score: 0.9398\n",
            "Overall precison: 0.9501\n"
          ]
        }
      ],
      "source": [
        "print(f\"Overall F1-Score: {overall_f1:.4f}\")\n",
        "print(f\"Overall F2-Score: {f2_score:.4f}\")\n",
        "print(f\"Overall F0.5-Score: {f0_5_score:.4f}\")\n",
        "print(f\"Overall precison: {overall_precision:.4f}\")"
      ]
    },
    {
      "cell_type": "code",
      "execution_count": null,
      "metadata": {
        "colab": {
          "base_uri": "https://localhost:8080/",
          "height": 718
        },
        "id": "3600ZGBkdtoa",
        "outputId": "fc4dd42f-6398-467f-8df5-ef70d2c57626"
      },
      "outputs": [
        {
          "data": {
            "image/png": "[encoded data removed]",
            "text/plain": [
              "<Figure size 1000x800 with 2 Axes>"
            ]
          },
          "metadata": {},
          "output_type": "display_data"
        }
      ],
      "source": [
        "def plot_confusion_matrix(y_true, y_pred, labels):\n",
        "    cm = confusion_matrix([item for sublist in y_true for item in sublist],\n",
        "                          [item for sublist in y_pred for item in sublist], labels=labels)\n",
        "\n",
        "    fig, ax = plt.subplots(figsize=(10, 8))\n",
        "    sns.heatmap(cm, annot=True, fmt='d', xticklabels=labels, yticklabels=labels, cmap=\"Blues\")\n",
        "    plt.ylabel('True Labels')\n",
        "    plt.xlabel('Predicted Labels')\n",
        "    plt.title('Confusion Matrix')\n",
        "    plt.show()\n",
        "\n",
        "labels = list(crf.classes_)\n",
        "y_true = [sent2labels(s) for s in brown_sents]\n",
        "y_pred = crf.predict(X)\n",
        "\n",
        "plot_confusion_matrix(y_true, y_pred, labels)\n"
      ]
    },
    {
      "cell_type": "code",
      "execution_count": null,
      "metadata": {
        "colab": {
          "base_uri": "https://localhost:8080/"
        },
        "id": "H1VUYlLIkkfh",
        "outputId": "2b43221a-7721-43e2-c46a-1c9fa318c676"
      },
      "outputs": [
        {
          "name": "stderr",
          "output_type": "stream",
          "text": [
            "[nltk_data] Downloading package punkt to /root/nltk_data...\n",
            "[nltk_data]   Unzipping tokenizers/punkt.zip.\n"
          ]
        },
        {
          "data": {
            "text/plain": [
              "True"
            ]
          },
          "execution_count": 17,
          "metadata": {},
          "output_type": "execute_result"
        }
      ],
      "source": [
        "nltk.download('punkt')"
      ]
    },
    {
      "cell_type": "code",
      "execution_count": null,
      "metadata": {
        "colab": {
          "base_uri": "https://localhost:8080/"
        },
        "id": "X0txFNdHkRS7",
        "outputId": "121ba30e-d4c3-40b5-c6c8-f12674ade86f"
      },
      "outputs": [
        {
          "name": "stdout",
          "output_type": "stream",
          "text": [
            "[('The', 'DET'), ('quick', 'ADJ'), ('brown', 'NOUN'), ('fox', 'NOUN'), ('jumps', 'NOUN'), ('over', 'ADP'), ('the', 'DET'), ('lazy', 'ADJ'), ('dog', 'NOUN'), ('.', '.')]\n"
          ]
        }
      ],
      "source": [
        "def tag_sentence(sentence):\n",
        "    tokens = nltk.word_tokenize(sentence)\n",
        "    sent = [(token, '') for token in tokens]  # Dummy tags, not used in features\n",
        "    features = [word2features(sent, i) for i in range(len(sent))]\n",
        "    tags = crf.predict([features])[0]\n",
        "    return list(zip(tokens, tags))\n",
        "\n",
        "# Example\n",
        "sentence = \"The quick brown fox jumps over the lazy dog.\"\n",
        "tagged_sentence = tag_sentence(sentence)\n",
        "print(tagged_sentence)"
      ]
    },
    {
      "cell_type": "code",
      "execution_count": null,
      "metadata": {
        "colab": {
          "base_uri": "https://localhost:8080/"
        },
        "id": "t8JpaGcPdtlq",
        "outputId": "9fc2f96d-bdcf-4f10-9953-acadbbee9172"
      },
      "outputs": [
        {
          "name": "stdout",
          "output_type": "stream",
          "text": [
            "Collecting gradio\n",
            "  Downloading gradio-4.44.1-py3-none-any.whl.metadata (15 kB)\n",
            "Collecting aiofiles<24.0,>=22.0 (from gradio)\n",
            "  Downloading aiofiles-23.2.1-py3-none-any.whl.metadata (9.7 kB)\n",
            "Requirement already satisfied: anyio<5.0,>=3.0 in /usr/local/lib/python3.10/dist-packages (from gradio) (3.7.1)\n",
            "Collecting fastapi<1.0 (from gradio)\n",
            "  Downloading fastapi-0.115.0-py3-none-any.whl.metadata (27 kB)\n",
            "Collecting ffmpy (from gradio)\n",
            "  Downloading ffmpy-0.4.0-py3-none-any.whl.metadata (2.9 kB)\n",
            "Collecting gradio-client==1.3.0 (from gradio)\n",
            "  Downloading gradio_client-1.3.0-py3-none-any.whl.metadata (7.1 kB)\n",
            "Collecting httpx>=0.24.1 (from gradio)\n",
            "  Downloading httpx-0.27.2-py3-none-any.whl.metadata (7.1 kB)\n",
            "Requirement already satisfied: huggingface-hub>=0.19.3 in /usr/local/lib/python3.10/dist-packages (from gradio) (0.24.7)\n",
            "Requirement already satisfied: importlib-resources<7.0,>=1.3 in /usr/local/lib/python3.10/dist-packages (from gradio) (6.4.5)\n",
            "Requirement already satisfied: jinja2<4.0 in /usr/local/lib/python3.10/dist-packages (from gradio) (3.1.4)\n",
            "Requirement already satisfied: markupsafe~=2.0 in /usr/local/lib/python3.10/dist-packages (from gradio) (2.1.5)\n",
            "Requirement already satisfied: matplotlib~=3.0 in /usr/local/lib/python3.10/dist-packages (from gradio) (3.7.1)\n",
            "Requirement already satisfied: numpy<3.0,>=1.0 in /usr/local/lib/python3.10/dist-packages (from gradio) (1.26.4)\n",
            "Collecting orjson~=3.0 (from gradio)\n",
            "  Downloading orjson-3.10.7-cp310-cp310-manylinux_2_17_x86_64.manylinux2014_x86_64.whl.metadata (50 kB)\n",
            "\u001b[2K     \u001b[90m━━━━━━━━━━━━━━━━━━━━━━━━━━━━━━━━━━━━━━━━\u001b[0m \u001b[32m50.4/50.4 kB\u001b[0m \u001b[31m2.6 MB/s\u001b[0m eta \u001b[36m0:00:00\u001b[0m\n",
            "\u001b[?25hRequirement already satisfied: packaging in /usr/local/lib/python3.10/dist-packages (from gradio) (24.1)\n",
            "Requirement already satisfied: pandas<3.0,>=1.0 in /usr/local/lib/python3.10/dist-packages (from gradio) (2.2.2)\n",
            "Requirement already satisfied: pillow<11.0,>=8.0 in /usr/local/lib/python3.10/dist-packages (from gradio) (10.4.0)\n",
            "Requirement already satisfied: pydantic>=2.0 in /usr/local/lib/python3.10/dist-packages (from gradio) (2.9.2)\n",
            "Collecting pydub (from gradio)\n",
            "  Downloading pydub-0.25.1-py2.py3-none-any.whl.metadata (1.4 kB)\n",
            "Collecting python-multipart>=0.0.9 (from gradio)\n",
            "  Downloading python_multipart-0.0.12-py3-none-any.whl.metadata (1.9 kB)\n",
            "Requirement already satisfied: pyyaml<7.0,>=5.0 in /usr/local/lib/python3.10/dist-packages (from gradio) (6.0.2)\n",
            "Collecting ruff>=0.2.2 (from gradio)\n",
            "  Downloading ruff-0.6.8-py3-none-manylinux_2_17_x86_64.manylinux2014_x86_64.whl.metadata (25 kB)\n",
            "Collecting semantic-version~=2.0 (from gradio)\n",
            "  Downloading semantic_version-2.10.0-py2.py3-none-any.whl.metadata (9.7 kB)\n",
            "Collecting tomlkit==0.12.0 (from gradio)\n",
            "  Downloading tomlkit-0.12.0-py3-none-any.whl.metadata (2.7 kB)\n",
            "Requirement already satisfied: typer<1.0,>=0.12 in /usr/local/lib/python3.10/dist-packages (from gradio) (0.12.5)\n",
            "Requirement already satisfied: typing-extensions~=4.0 in /usr/local/lib/python3.10/dist-packages (from gradio) (4.12.2)\n",
            "Requirement already satisfied: urllib3~=2.0 in /usr/local/lib/python3.10/dist-packages (from gradio) (2.2.3)\n",
            "Collecting uvicorn>=0.14.0 (from gradio)\n",
            "  Downloading uvicorn-0.31.0-py3-none-any.whl.metadata (6.6 kB)\n",
            "Requirement already satisfied: fsspec in /usr/local/lib/python3.10/dist-packages (from gradio-client==1.3.0->gradio) (2024.6.1)\n",
            "Collecting websockets<13.0,>=10.0 (from gradio-client==1.3.0->gradio)\n",
            "  Downloading websockets-12.0-cp310-cp310-manylinux_2_5_x86_64.manylinux1_x86_64.manylinux_2_17_x86_64.manylinux2014_x86_64.whl.metadata (6.6 kB)\n",
            "Requirement already satisfied: idna>=2.8 in /usr/local/lib/python3.10/dist-packages (from anyio<5.0,>=3.0->gradio) (3.10)\n",
            "Requirement already satisfied: sniffio>=1.1 in /usr/local/lib/python3.10/dist-packages (from anyio<5.0,>=3.0->gradio) (1.3.1)\n",
            "Requirement already satisfied: exceptiongroup in /usr/local/lib/python3.10/dist-packages (from anyio<5.0,>=3.0->gradio) (1.2.2)\n",
            "Collecting starlette<0.39.0,>=0.37.2 (from fastapi<1.0->gradio)\n",
            "  Downloading starlette-0.38.6-py3-none-any.whl.metadata (6.0 kB)\n",
            "Requirement already satisfied: certifi in /usr/local/lib/python3.10/dist-packages (from httpx>=0.24.1->gradio) (2024.8.30)\n",
            "Collecting httpcore==1.* (from httpx>=0.24.1->gradio)\n",
            "  Downloading httpcore-1.0.6-py3-none-any.whl.metadata (21 kB)\n",
            "Collecting h11<0.15,>=0.13 (from httpcore==1.*->httpx>=0.24.1->gradio)\n",
            "  Downloading h11-0.14.0-py3-none-any.whl.metadata (8.2 kB)\n",
            "Requirement already satisfied: filelock in /usr/local/lib/python3.10/dist-packages (from huggingface-hub>=0.19.3->gradio) (3.16.1)\n",
            "Requirement already satisfied: requests in /usr/local/lib/python3.10/dist-packages (from huggingface-hub>=0.19.3->gradio) (2.32.3)\n",
            "Requirement already satisfied: tqdm>=4.42.1 in /usr/local/lib/python3.10/dist-packages (from huggingface-hub>=0.19.3->gradio) (4.66.5)\n",
            "Requirement already satisfied: contourpy>=1.0.1 in /usr/local/lib/python3.10/dist-packages (from matplotlib~=3.0->gradio) (1.3.0)\n",
            "Requirement already satisfied: cycler>=0.10 in /usr/local/lib/python3.10/dist-packages (from matplotlib~=3.0->gradio) (0.12.1)\n",
            "Requirement already satisfied: fonttools>=4.22.0 in /usr/local/lib/python3.10/dist-packages (from matplotlib~=3.0->gradio) (4.54.1)\n",
            "Requirement already satisfied: kiwisolver>=1.0.1 in /usr/local/lib/python3.10/dist-packages (from matplotlib~=3.0->gradio) (1.4.7)\n",
            "Requirement already satisfied: pyparsing>=2.3.1 in /usr/local/lib/python3.10/dist-packages (from matplotlib~=3.0->gradio) (3.1.4)\n",
            "Requirement already satisfied: python-dateutil>=2.7 in /usr/local/lib/python3.10/dist-packages (from matplotlib~=3.0->gradio) (2.8.2)\n",
            "Requirement already satisfied: pytz>=2020.1 in /usr/local/lib/python3.10/dist-packages (from pandas<3.0,>=1.0->gradio) (2024.2)\n",
            "Requirement already satisfied: tzdata>=2022.7 in /usr/local/lib/python3.10/dist-packages (from pandas<3.0,>=1.0->gradio) (2024.2)\n",
            "Requirement already satisfied: annotated-types>=0.6.0 in /usr/local/lib/python3.10/dist-packages (from pydantic>=2.0->gradio) (0.7.0)\n",
            "Requirement already satisfied: pydantic-core==2.23.4 in /usr/local/lib/python3.10/dist-packages (from pydantic>=2.0->gradio) (2.23.4)\n",
            "Requirement already satisfied: click>=8.0.0 in /usr/local/lib/python3.10/dist-packages (from typer<1.0,>=0.12->gradio) (8.1.7)\n",
            "Requirement already satisfied: shellingham>=1.3.0 in /usr/local/lib/python3.10/dist-packages (from typer<1.0,>=0.12->gradio) (1.5.4)\n",
            "Requirement already satisfied: rich>=10.11.0 in /usr/local/lib/python3.10/dist-packages (from typer<1.0,>=0.12->gradio) (13.8.1)\n",
            "Requirement already satisfied: six>=1.5 in /usr/local/lib/python3.10/dist-packages (from python-dateutil>=2.7->matplotlib~=3.0->gradio) (1.16.0)\n",
            "Requirement already satisfied: markdown-it-py>=2.2.0 in /usr/local/lib/python3.10/dist-packages (from rich>=10.11.0->typer<1.0,>=0.12->gradio) (3.0.0)\n",
            "Requirement already satisfied: pygments<3.0.0,>=2.13.0 in /usr/local/lib/python3.10/dist-packages (from rich>=10.11.0->typer<1.0,>=0.12->gradio) (2.18.0)\n",
            "Requirement already satisfied: charset-normalizer<4,>=2 in /usr/local/lib/python3.10/dist-packages (from requests->huggingface-hub>=0.19.3->gradio) (3.3.2)\n",
            "Requirement already satisfied: mdurl~=0.1 in /usr/local/lib/python3.10/dist-packages (from markdown-it-py>=2.2.0->rich>=10.11.0->typer<1.0,>=0.12->gradio) (0.1.2)\n",
            "Downloading gradio-4.44.1-py3-none-any.whl (18.1 MB)\n",
            "\u001b[2K   \u001b[90m━━━━━━━━━━━━━━━━━━━━━━━━━━━━━━━━━━━━━━━━\u001b[0m \u001b[32m18.1/18.1 MB\u001b[0m \u001b[31m45.3 MB/s\u001b[0m eta \u001b[36m0:00:00\u001b[0m\n",
            "\u001b[?25hDownloading gradio_client-1.3.0-py3-none-any.whl (318 kB)\n",
            "\u001b[2K   \u001b[90m━━━━━━━━━━━━━━━━━━━━━━━━━━━━━━━━━━━━━━━━\u001b[0m \u001b[32m318.7/318.7 kB\u001b[0m \u001b[31m21.3 MB/s\u001b[0m eta \u001b[36m0:00:00\u001b[0m\n",
            "\u001b[?25hDownloading tomlkit-0.12.0-py3-none-any.whl (37 kB)\n",
            "Downloading aiofiles-23.2.1-py3-none-any.whl (15 kB)\n",
            "Downloading fastapi-0.115.0-py3-none-any.whl (94 kB)\n",
            "\u001b[2K   \u001b[90m━━━━━━━━━━━━━━━━━━━━━━━━━━━━━━━━━━━━━━━━\u001b[0m \u001b[32m94.6/94.6 kB\u001b[0m \u001b[31m6.4 MB/s\u001b[0m eta \u001b[36m0:00:00\u001b[0m\n",
            "\u001b[?25hDownloading httpx-0.27.2-py3-none-any.whl (76 kB)\n",
            "\u001b[2K   \u001b[90m━━━━━━━━━━━━━━━━━━━━━━━━━━━━━━━━━━━━━━━━\u001b[0m \u001b[32m76.4/76.4 kB\u001b[0m \u001b[31m4.7 MB/s\u001b[0m eta \u001b[36m0:00:00\u001b[0m\n",
            "\u001b[?25hDownloading httpcore-1.0.6-py3-none-any.whl (78 kB)\n",
            "\u001b[2K   \u001b[90m━━━━━━━━━━━━━━━━━━━━━━━━━━━━━━━━━━━━━━━━\u001b[0m \u001b[32m78.0/78.0 kB\u001b[0m \u001b[31m5.4 MB/s\u001b[0m eta \u001b[36m0:00:00\u001b[0m\n",
            "\u001b[?25hDownloading orjson-3.10.7-cp310-cp310-manylinux_2_17_x86_64.manylinux2014_x86_64.whl (141 kB)\n",
            "\u001b[2K   \u001b[90m━━━━━━━━━━━━━━━━━━━━━━━━━━━━━━━━━━━━━━━━\u001b[0m \u001b[32m141.9/141.9 kB\u001b[0m \u001b[31m10.6 MB/s\u001b[0m eta \u001b[36m0:00:00\u001b[0m\n",
            "\u001b[?25hDownloading python_multipart-0.0.12-py3-none-any.whl (23 kB)\n",
            "Downloading ruff-0.6.8-py3-none-manylinux_2_17_x86_64.manylinux2014_x86_64.whl (10.9 MB)\n",
            "\u001b[2K   \u001b[90m━━━━━━━━━━━━━━━━━━━━━━━━━━━━━━━━━━━━━━━━\u001b[0m \u001b[32m10.9/10.9 MB\u001b[0m \u001b[31m84.1 MB/s\u001b[0m eta \u001b[36m0:00:00\u001b[0m\n",
            "\u001b[?25hDownloading semantic_version-2.10.0-py2.py3-none-any.whl (15 kB)\n",
            "Downloading uvicorn-0.31.0-py3-none-any.whl (63 kB)\n",
            "\u001b[2K   \u001b[90m━━━━━━━━━━━━━━━━━━━━━━━━━━━━━━━━━━━━━━━━\u001b[0m \u001b[32m63.7/63.7 kB\u001b[0m \u001b[31m4.8 MB/s\u001b[0m eta \u001b[36m0:00:00\u001b[0m\n",
            "\u001b[?25hDownloading ffmpy-0.4.0-py3-none-any.whl (5.8 kB)\n",
            "Downloading pydub-0.25.1-py2.py3-none-any.whl (32 kB)\n",
            "Downloading h11-0.14.0-py3-none-any.whl (58 kB)\n",
            "\u001b[2K   \u001b[90m━━━━━━━━━━━━━━━━━━━━━━━━━━━━━━━━━━━━━━━━\u001b[0m \u001b[32m58.3/58.3 kB\u001b[0m \u001b[31m4.0 MB/s\u001b[0m eta \u001b[36m0:00:00\u001b[0m\n",
            "\u001b[?25hDownloading starlette-0.38.6-py3-none-any.whl (71 kB)\n",
            "\u001b[2K   \u001b[90m━━━━━━━━━━━━━━━━━━━━━━━━━━━━━━━━━━━━━━━━\u001b[0m \u001b[32m71.5/71.5 kB\u001b[0m \u001b[31m5.3 MB/s\u001b[0m eta \u001b[36m0:00:00\u001b[0m\n",
            "\u001b[?25hDownloading websockets-12.0-cp310-cp310-manylinux_2_5_x86_64.manylinux1_x86_64.manylinux_2_17_x86_64.manylinux2014_x86_64.whl (130 kB)\n",
            "\u001b[2K   \u001b[90m━━━━━━━━━━━━━━━━━━━━━━━━━━━━━━━━━━━━━━━━\u001b[0m \u001b[32m130.2/130.2 kB\u001b[0m \u001b[31m9.7 MB/s\u001b[0m eta \u001b[36m0:00:00\u001b[0m\n",
            "\u001b[?25hInstalling collected packages: pydub, websockets, tomlkit, semantic-version, ruff, python-multipart, orjson, h11, ffmpy, aiofiles, uvicorn, starlette, httpcore, httpx, fastapi, gradio-client, gradio\n",
            "Successfully installed aiofiles-23.2.1 fastapi-0.115.0 ffmpy-0.4.0 gradio-4.44.1 gradio-client-1.3.0 h11-0.14.0 httpcore-1.0.6 httpx-0.27.2 orjson-3.10.7 pydub-0.25.1 python-multipart-0.0.12 ruff-0.6.8 semantic-version-2.10.0 starlette-0.38.6 tomlkit-0.12.0 uvicorn-0.31.0 websockets-12.0\n"
          ]
        }
      ],
      "source": [
        "!pip install gradio\n",
        "import gradio as gr\n",
        "import nltk"
      ]
    },
    {
      "cell_type": "code",
      "execution_count": null,
      "metadata": {
        "id": "_u3bH0redtjC"
      },
      "outputs": [],
      "source": [
        "# Create Gradio interface\n",
        "def crf_pos_tagging(input_sentence):\n",
        "    tagged_sentence = tag_sentence(input_sentence)\n",
        "    return tagged_sentence"
      ]
    },
    {
      "cell_type": "code",
      "execution_count": null,
      "metadata": {
        "colab": {
          "base_uri": "https://localhost:8080/",
          "height": 626
        },
        "id": "B4kyG8xmdtgj",
        "outputId": "495e4dc7-04f4-4752-d425-11e88e0f2e1f"
      },
      "outputs": [
        {
          "name": "stdout",
          "output_type": "stream",
          "text": [
            "Setting queue=True in a Colab notebook requires sharing enabled. Setting `share=True` (you can turn this off by setting `share=False` in `launch()` explicitly).\n",
            "\n",
            "Colab notebook detected. To show errors in colab notebook, set debug=True in launch()\n",
            "Running on public URL: https://d408b311de5d48ecf5.gradio.live\n",
            "\n",
            "This share link expires in 72 hours. For free permanent hosting and GPU upgrades, run `gradio deploy` from Terminal to deploy to Spaces (https://huggingface.co/spaces)\n"
          ]
        },
        {
          "data": {
            "text/html": [
              "<div><iframe src=\"https://d408b311de5d48ecf5.gradio.live\" width=\"100%\" height=\"500\" allow=\"autoplay; camera; microphone; clipboard-read; clipboard-write;\" frameborder=\"0\" allowfullscreen></iframe></div>"
            ],
            "text/plain": [
              "<IPython.core.display.HTML object>"
            ]
          },
          "metadata": {},
          "output_type": "display_data"
        },
        {
          "data": {
            "text/plain": []
          },
          "execution_count": 22,
          "metadata": {},
          "output_type": "execute_result"
        }
      ],
      "source": [
        "# Set up Gradio interface\n",
        "interface = gr.Interface(\n",
        "    fn=crf_pos_tagging,                # Function to use\n",
        "    inputs=gr.Textbox(lines=2, placeholder=\"Enter a sentence here\"),  # Input type\n",
        "    outputs=\"json\",                    # Output in JSON format\n",
        "    title=\"CRF POS Tagging\",           # Title of the app\n",
        "    description=\"Enter a sentence and get POS tags using a CRF model.\"  # Description\n",
        ")\n",
        "\n",
        "# Launch the interface\n",
        "interface.launch()"
      ]
    },
    {
      "cell_type": "code",
      "execution_count": null,
      "metadata": {
        "id": "runadlWQdtd7"
      },
      "outputs": [],
      "source": []
    },
    {
      "cell_type": "code",
      "execution_count": null,
      "metadata": {
        "id": "qVeIrXabdtbZ"
      },
      "outputs": [],
      "source": []
    },
    {
      "cell_type": "code",
      "execution_count": null,
      "metadata": {
        "id": "HAak_9EZdtWr"
      },
      "outputs": [],
      "source": []
    }
  ],
  "metadata": {
    "colab": {
      "provenance": []
    },
    "kernelspec": {
      "display_name": "Python 3",
      "name": "python3"
    },
    "language_info": {
      "name": "python"
    }
  },
  "nbformat": 4,
  "nbformat_minor": 0
}
