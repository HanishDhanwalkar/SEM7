{
  "cells": [
    {
      "cell_type": "markdown",
      "metadata": {
        "id": "EiYIneQcFsXA"
      },
      "source": [
        "ANSWERS:\n",
        "Q2 a)  \n",
        "\n",
        "    def linear(self, z):\n",
        "        \"\"\"returns result of the linear activation function on input z.\"\"\"\n",
        "        return z\n",
        "\n",
        "    def linearPrime(self,z):\n",
        "        \"\"\"returns derivative of linear activation function applied on input z.\"\"\"\n",
        "        return np.ones_like(dz)\n",
        "Q2 b)\n",
        "\n",
        "    def ReLU(self,z):\n",
        "        \"\"\"returns result of the ReLU activation function on input z.\"\"\"\n",
        "        return np.maximum(0, z)\n",
        "\n",
        "    def ReLUPrime(self,z):\n",
        "        \"\"\"returns derivative of ReLU activation function applied on input z.\"\"\"\n",
        "        return (dz > 0).astype(np.float32)"
      ]
    },
    {
      "cell_type": "code",
      "execution_count": null,
      "metadata": {
        "id": "Jcl9wZQdEih6"
      },
      "outputs": [],
      "source": [
        "import numpy as np\n",
        "import matplotlib.pyplot as plt\n",
        "np.random.seed(1000)\n",
        "\n",
        "from keras.datasets import mnist\n",
        "from sklearn.model_selection import train_test_split"
      ]
    },
    {
      "cell_type": "code",
      "execution_count": null,
      "metadata": {
        "colab": {
          "base_uri": "https://localhost:8080/"
        },
        "id": "3pA8Ke9MjLrw",
        "outputId": "3e25b4df-e778-490a-f656-0c3c7082a955"
      },
      "outputs": [
        {
          "name": "stdout",
          "output_type": "stream",
          "text": [
            "Train: X - (60000, 28, 28), y - (60000,)\n",
            "Test: X - (10000, 28, 28), y - (10000,)\n"
          ]
        }
      ],
      "source": [
        "(X_train, Y_train), (X_test, Y_test) = mnist.load_data()\n",
        "print(f'Train: X - {X_train.shape}, y - {Y_train.shape}')\n",
        "print(f'Test: X - {X_test.shape}, y - {Y_test.shape}')"
      ]
    },
    {
      "cell_type": "code",
      "execution_count": null,
      "metadata": {
        "colab": {
          "base_uri": "https://localhost:8080/",
          "height": 482
        },
        "id": "E9ogIbPkjRN0",
        "outputId": "b79592d2-e964-4bbc-9e10-9538ed759445"
      },
      "outputs": [
        {
          "data": {
            "image/png": "[encoded data removed]",
            "text/plain": [
              "<Figure size 640x480 with 1 Axes>"
            ]
          },
          "metadata": {},
          "output_type": "display_data"
        },
        {
          "name": "stdout",
          "output_type": "stream",
          "text": [
            "\n",
            "\n",
            "Label in dataset: 4\n"
          ]
        }
      ],
      "source": [
        "plt.imshow(X_train[20],cmap='gray')\n",
        "plt.show()\n",
        "print(f\"\\n\\nLabel in dataset: {Y_train[20]}\")"
      ]
    },
    {
      "cell_type": "code",
      "execution_count": null,
      "metadata": {
        "colab": {
          "base_uri": "https://localhost:8080/"
        },
        "id": "4olvPpzrjnp2",
        "outputId": "585b83a0-2112-4f70-d3ee-3a43233ca4f9"
      },
      "outputs": [
        {
          "name": "stdout",
          "output_type": "stream",
          "text": [
            "[0 1 2 3 4 5 6 7 8 9]\n"
          ]
        }
      ],
      "source": [
        "digits = np.unique(Y_train)\n",
        "print(digits)"
      ]
    },
    {
      "cell_type": "code",
      "execution_count": null,
      "metadata": {
        "colab": {
          "base_uri": "https://localhost:8080/"
        },
        "id": "INwTlURrjqWf",
        "outputId": "52927ef7-5dc4-4eb7-ef7d-7a325e52ac5d"
      },
      "outputs": [
        {
          "name": "stdout",
          "output_type": "stream",
          "text": [
            "[[   0 5923]\n",
            " [   1 6742]\n",
            " [   2 5958]\n",
            " [   3 6131]\n",
            " [   4 5842]\n",
            " [   5 5421]\n",
            " [   6 5918]\n",
            " [   7 6265]\n",
            " [   8 5851]\n",
            " [   9 5949]]\n"
          ]
        }
      ],
      "source": [
        "# M = 30 # no of instances for each class\n",
        "# fig, axs = plt.subplots(len(digits), M, figsize=(18,4))\n",
        "# for i,d in enumerate(digits):\n",
        "#     for j in range(M):\n",
        "#         axs[i,j].imshow(X_train[Y_train==d][j], cmap='gray')\n",
        "#         axs[i,j].axis('off')\n",
        "\n",
        "#counts for all unique class labels\n",
        "unique, counts = np.unique(Y_train, return_counts=True)\n",
        "print(np.asarray((unique, counts)).T)"
      ]
    },
    {
      "cell_type": "code",
      "execution_count": null,
      "metadata": {
        "colab": {
          "base_uri": "https://localhost:8080/"
        },
        "id": "4ziZ-Z8nkmVH",
        "outputId": "9988f299-627c-4109-86e7-5e7d53d4f447"
      },
      "outputs": [
        {
          "name": "stdout",
          "output_type": "stream",
          "text": [
            "Shapes - Train: (60000, 784), Test: (10000, 784)\n",
            "Minimum pixel value = 0\n",
            "Maximum pixel value = 255\n",
            "Minimum pixel value = 0.0\n",
            "Maximum pixel value = 1.0\n"
          ]
        }
      ],
      "source": [
        "# Pre processing\n",
        "# flattening the input\n",
        "\n",
        "X_train_flattened = X_train.reshape((X_train.shape[0], -1))\n",
        "X_test_flattened = X_test.reshape((X_test.shape[0], -1))\n",
        "X_normalized_train = np.round(X_train_flattened/X_train_flattened.max(), 3)\n",
        "X_normalized_test = np.round(X_test_flattened/X_test_flattened.max(), 3)\n",
        "\n",
        "print(f\"Shapes - Train: {X_train_flattened.shape}, Test: {X_test_flattened.shape}\")\n",
        "print(\"Minimum pixel value =\", X_train_flattened.min())\n",
        "print(\"Maximum pixel value =\", X_train_flattened.max())\n",
        "#print the new values\n",
        "print(\"Minimum pixel value =\", X_normalized_train.min())\n",
        "print(\"Maximum pixel value =\", X_normalized_train.max())\n"
      ]
    },
    {
      "cell_type": "code",
      "execution_count": null,
      "metadata": {
        "colab": {
          "base_uri": "https://localhost:8080/"
        },
        "id": "wjvwqyWsk6Hy",
        "outputId": "e45cfa84-5f80-486e-9d7f-f54e5ab7d3a0"
      },
      "outputs": [
        {
          "name": "stdout",
          "output_type": "stream",
          "text": [
            "Trainset shapes - X: (12665, 784), Y: (12665,)\n",
            "Testset shapes - X: (2115, 784), Y: (2115,)\n",
            "\n",
            "Train statistics - 0: 5923, 1: 6742\n",
            "Test statistics - 0: 980, 1: 1135\n"
          ]
        }
      ],
      "source": [
        "#for train data\n",
        "train_idx = np.where((Y_train==0) | (Y_train==1))# Here we get the index of values 0 and 1\n",
        "X_train_bin = X_normalized_train[train_idx]\n",
        "Y_train_bin = Y_train[train_idx]\n",
        "\n",
        "#for test data\n",
        "test_idx = np.where((Y_test==0) | (Y_test==1))\n",
        "X_test_bin = X_normalized_test[test_idx]\n",
        "Y_test_bin = Y_test[test_idx]\n",
        "\n",
        "print(f'Trainset shapes - X: {X_train_bin.shape}, Y: {Y_train_bin.shape}')\n",
        "print(f'Testset shapes - X: {X_test_bin.shape}, Y: {Y_test_bin.shape}')\n",
        "\n",
        "print(f'\\nTrain statistics - 0: {(Y_train_bin==0).sum()}, 1: {(Y_train_bin==1).sum()}')\n",
        "print(f'Test statistics - 0: {(Y_test_bin==0).sum()}, 1: {(Y_test_bin==1).sum()}')\n"
      ]
    },
    {
      "cell_type": "code",
      "execution_count": null,
      "metadata": {
        "colab": {
          "base_uri": "https://localhost:8080/"
        },
        "id": "AI3_LHq7lD2Q",
        "outputId": "f98ffa71-810f-4c71-8082-2148b962315b"
      },
      "outputs": [
        {
          "name": "stdout",
          "output_type": "stream",
          "text": [
            "Instances in new train-set: 10132\n",
            "Instances in val-set: 2533\n",
            "\n",
            "Count of 0s and 1s in train-set: 4745 5387\n",
            "Count of 0s and 1s in val-set: 1178 1355\n"
          ]
        }
      ],
      "source": [
        "from sklearn.model_selection import train_test_split\n",
        "X_train_bin, X_val_bin, Y_train_bin, Y_val_bin = train_test_split(X_train_bin, Y_train_bin, test_size=0.2, random_state = 28)\n",
        "\n",
        "print(\"Instances in new train-set:\", len(Y_train_bin))\n",
        "print(\"Instances in val-set:\", len(Y_val_bin))\n",
        "print(\"\\nCount of 0s and 1s in train-set:\", (Y_train_bin==0).sum(), (Y_train_bin==1).sum())\n",
        "print(\"Count of 0s and 1s in val-set:\", (Y_val_bin==0).sum(), (Y_val_bin==1).sum())"
      ]
    },
    {
      "cell_type": "code",
      "execution_count": null,
      "metadata": {
        "colab": {
          "base_uri": "https://localhost:8080/"
        },
        "id": "X4ClJ8qblI4k",
        "outputId": "1b8942a8-2963-4afe-8d79-ec7b4e38cb4c"
      },
      "outputs": [
        {
          "name": "stdout",
          "output_type": "stream",
          "text": [
            "Shapes - ((784, 10132), (784, 2533), (784, 2115))\n"
          ]
        }
      ],
      "source": [
        "# Transpose feature matrices as per our model requirement\n",
        "\n",
        "X_train_bin, X_val_bin, X_test_bin = X_train_bin.T, X_val_bin.T, X_test_bin.T\n",
        "print(f'Shapes - {X_train_bin.shape, X_val_bin.shape, X_test_bin.shape}')"
      ]
    },
    {
      "cell_type": "code",
      "execution_count": null,
      "metadata": {
        "id": "gIoMJPr6CB4v"
      },
      "outputs": [],
      "source": [
        "class Neural_Network():\n",
        "    def __init__(self, neurons, Activations, initialization='randn'):\n",
        "        \"\"\"Define the NN design parameters\n",
        "        Args:\n",
        "            neurons (int array): list of number of neurons in each layer\n",
        "            Activations (str array): list of activations to be used for hidden and output layers\n",
        "            initialization (str, optional): Choose weight initialization from\n",
        "             uniform or normal distribution. Defaults to 'randn'.\n",
        "        \"\"\"\n",
        "\n",
        "        self.inputSize = neurons[0] # Number of neurons in input layer\n",
        "        self.outputSize = neurons[-1] # Number of neurons in output layer\n",
        "        self.layers = len(neurons)\n",
        "        self.weights = [] # weights for each layer\n",
        "        self.biases = [] # biases in each layer\n",
        "        self.layer_activations = [] # activations for each layer\n",
        "\n",
        "        if initialization == 'rand':\n",
        "            self.initializer = np.random.rand\n",
        "        elif initialization == 'randn':\n",
        "            self.initializer = np.random.randn\n",
        "        else:\n",
        "           raise ValueError(\"initialization must be 'rand' or 'randn' or 'he' or 'xavier'\")\n",
        "        for i in range(len(neurons)-1):\n",
        "            self.weights.append(self.initializer(neurons[i+1],neurons[i])) # weight matrix between layer i and layer i+1\n",
        "            self.biases.append(self.initializer(neurons[i+1],1))\n",
        "            self.layer_activations.append(Activations[i]) # activations for each layer\n",
        "\n",
        "    def linear(self, z):\n",
        "        \"\"\"returns result of the linear activation function on input z.\"\"\"\n",
        "        return z\n",
        "\n",
        "    def linearPrime(self,z):\n",
        "        \"\"\"returns derivative of linear activation function applied on input z.\"\"\"\n",
        "        return np.ones_like(dz)\n",
        "\n",
        "    def ReLU(self,z):\n",
        "        \"\"\"returns result of the ReLU activation function on input z.\"\"\"\n",
        "        return np.maximum(0, z)\n",
        "\n",
        "    def ReLUPrime(self,z):\n",
        "        \"\"\"returns derivative of ReLU activation function applied on input z.\"\"\"\n",
        "        return (z > 0).astype(np.float32)\n",
        "\n",
        "    def lossSE(self, predicted, actual):\n",
        "        \"\"\"Implementation of Squared-error loss function.\"\"\"\n",
        "        return 0.5*np.mean((predicted - actual)**2)\n",
        "\n",
        "    def lossCE(self, predicted, actual):\n",
        "        \"\"\"Implementation of Cross-Entropy loss function.\"\"\"\n",
        "        return -np.mean(actual * np.log(predicted) + (1 - actual) * np.log(1 - predicted))\n",
        "\n",
        "\n",
        "    def forward(self, x):\n",
        "        \"\"\"Defines forward pass of the NN\n",
        "\n",
        "        Args:\n",
        "            x (array): input of size self.inputSize\n",
        "\n",
        "        Returns:\n",
        "            a (array): output of the forward pass\n",
        "            layer_dot_prod_z (list): layerwise intermediate outputs\n",
        "            layer_activations_a (list): layerwise activations\n",
        "        \"\"\"\n",
        "\n",
        "        layer_activations_a = [x] # store the outputs of activation\n",
        "        a=x  ## storing input as activation of zero-th layer\n",
        "        layer_dot_prod_z = []\n",
        "        for i, param in enumerate(zip(self.biases, self.weights)):\n",
        "            b, w = param[0], param[1]\n",
        "\n",
        "            #\n",
        "            z = np.dot(w,x) + b\n",
        "            #\n",
        "\n",
        "            # if self.layer_activations[i].lower()=='sigmoid':\n",
        "            #     a = self.sigmoid(z)\n",
        "            if self.layer_activations[i].lower()=='relu':\n",
        "                a = self.ReLU(z)\n",
        "            elif self.layer_activations[i].lower()=='linear':\n",
        "                a = self.linear(z)\n",
        "            # elif self.layer_activations[i].lower()=='softmax':\n",
        "            #     a = self.softmax(z)\n",
        "            layer_dot_prod_z.append(z)\n",
        "            layer_activations_a.append(a)\n",
        "        return a, layer_dot_prod_z, layer_activations_a\n",
        "\n",
        "    def backward(self, x, y, zs, activations):\n",
        "        \"\"\"backward pass to calculate gradient of loss w.r.t. NN parameters\n",
        "\n",
        "        Args:\n",
        "            x (array): input\n",
        "            y (array): ouputs from forward pass\n",
        "            zs (list): layerwise intermediate outputs from forward pass\n",
        "            activations (list): layerwise activations from forward pass\n",
        "\n",
        "        Returns:\n",
        "            [tuple]: gradients with respect to bias and weight parameters respectively\n",
        "        \"\"\"\n",
        "        n = zs[-1].shape[0]\n",
        "        grad_b = [np.zeros(b.shape) for b in self.biases]\n",
        "        grad_w = [np.zeros(w.shape) for w in self.weights]\n",
        "\n",
        "        for t in range(1, len(activations)):\n",
        "            if t == 1:\n",
        "                delta = (activations[-t] - y)\n",
        "                if np.isnan(activations[-t]).any():\n",
        "                    print(\"NaN detected in delta after backpropagation.\")\n",
        "                    return\n",
        "            else:\n",
        "                delta = np.dot(delta, self.weights[-t+1])\n",
        "                if np.isnan(delta).any():\n",
        "                    print(\"NaN detected in delta after backpropagation.\")\n",
        "                    return\n",
        "                \n",
        "            if self.layer_activations[-t].lower()=='sigmoid':\n",
        "                delta *= self.sigmoidPrime(zs[-t])\n",
        "            elif self.layer_activations[-t].lower()=='relu':\n",
        "                delta *= self.ReLUPrime(zs[-t])\n",
        "            elif self.layer_activations[-t].lower()=='softmax':\n",
        "                delta *= self.softmaxPrime(zs[-t], y)\n",
        "            else:\n",
        "                raise ValueError(\"Activation function not supported\")\n",
        "            grad_b[-t] = (np.sum(delta, axis=0, keepdims=True) / n).T\n",
        "            grad_w[-t] = (np.dot( activations[-t-1].T, delta) / n).T\n",
        "\n",
        "        return (grad_b, grad_w)\n",
        "\n",
        "    def update_parameters(self, grads, lr):\n",
        "        \"\"\"update the NN parameters using the gradients\n",
        "\n",
        "        Args:\n",
        "            grads (list): gradients obtained from backward pass\n",
        "            lr (float): learning rate of NN\n",
        "        \"\"\"\n",
        "\n",
        "        grad_b, grad_w = grads[0], grads[1]\n",
        "\n",
        "        for i in range(len(self.weights)):\n",
        "            self.weights[i] -= lr * grad_w[i]\n",
        "            self.biases[i] -= lr * grad_b[i]\n",
        "\n",
        "    def copy_params(self):\n",
        "        \"\"\"Returns a copy of current NN parameters\"\"\"\n",
        "        weights = [w.copy() for w in self.weights]\n",
        "        biases = [b.copy() for b in self.biases]\n",
        "        return (weights, biases)\n",
        "\n",
        "    def error(self, X, Y, errors):\n",
        "        \"\"\"Appends loss to error list\"\"\"\n",
        "        y = np.squeeze(self.forward(X)[0])\n",
        "        errors.append(self.loss(y, Y))\n",
        "\n",
        "    def train(self, X, Y, lr = 1e-3, max_epochs = 1000, patience=5, batch_size = None,\n",
        "              n_classes=10, onehotencoded=False, loss_func='SE', Xval=None, Yval=None, verbose=True):\n",
        "\n",
        "        if onehotencoded:\n",
        "            # a method for creating one hot encoded labels\n",
        "            def onehotencoding(Y, n):\n",
        "                # one-hot encoding of class i is just the ith column of the identity\n",
        "                # matrix of size n where n is the total number of classes. so below\n",
        "                # code uses Y (a 1d array) for indexing into the identity matrix.\n",
        "\n",
        "                ### TODO: return one-hot encoding for Y\n",
        "                onehot = np.zeros((n, Y.shape[1]))\n",
        "                onehot[Y[0].astype(int), np.arange(Y.shape[1])] = 1\n",
        "                return onehot\n",
        "\n",
        "            Y = onehotencoding(Y, n_classes)\n",
        "            if Yval is not None:\n",
        "                Yval = onehotencoding(Yval, n_classes)\n",
        "\n",
        "        # Below code ensures that Y is 2-dimensional even when one-hot encoding is not\n",
        "        # performed, so our same code works for training NN for both tasks.\n",
        "        Y = np.expand_dims(Y,0) if len(Y.shape) == 1 else Y\n",
        "        Yval = np.expand_dims(Yval,0) if (Yval is not None and len(Yval.shape) == 1) else Yval\n",
        "\n",
        "        if loss_func == 'SE':\n",
        "            self.loss = self.lossSE\n",
        "        elif loss_func == 'CE':\n",
        "            self.loss = self.lossCE\n",
        "\n",
        "        train_errors=[]\n",
        "        # if Xval is not None:\n",
        "        #     val_errors=[]\n",
        "        val_errors=[]\n",
        "\n",
        "        i, j, v = 0, 0, np.inf     ## i -> epoch, j->patience, v ->best loss\n",
        "        best_params = self.copy_params()\n",
        "\n",
        "        if batch_size is not None:\n",
        "            if batch_size > len(X[0]):\n",
        "                raise ValueError(\"invalid mini-batch size. Must be smaller than dataset length\")\n",
        "        else:   ## if batch_size is not given\n",
        "            batch_size = len(X[0])\n",
        "\n",
        "        #LR control function\n",
        "        if isinstance(lr, (float, int)):# constant Ir arg is passed to train get_ir lambda x: 1r # we return a function object which returns the same ir at every epoc elif callable(lr): # function in arg is passed to train\n",
        "          get_lr =lambda X: lr # the function is then used to get in for a particular epoch else: raise ValueError('param Ir can only be a number or a scheduler function\")\n",
        "        elif callable(lr):\n",
        "          get_lr =lr\n",
        "        else:\n",
        "          raise ValueError('param lr can only be a number or a scheduler function')\n",
        "\n",
        "        while j < patience:\n",
        "\n",
        "            ### TODO: Implement the training algorithm with option for mini-batches\n",
        "            # Shuffle Dataset\n",
        "            num_samples = X.shape[1]\n",
        "            idx = np.random.permutation(num_samples)\n",
        "            X = X[:, idx]\n",
        "            Y = Y[:, idx]\n",
        "\n",
        "            #for every batch do\n",
        "            for batch_start in range(0, num_samples, batch_size):\n",
        "                batch_end = min(batch_start + batch_size, num_samples)\n",
        "                X_batch = X[:, batch_start:batch_end]\n",
        "                Y_batch = Y[:, batch_start:batch_end]\n",
        "\n",
        "                #do forward pass\n",
        "                y, zs, activations = self.forward(X_batch)\n",
        "\n",
        "                #compute gradients using backpropagation\n",
        "                grads = self.backward(X_batch, Y_batch, zs, activations)\n",
        "\n",
        "                #update parameters\n",
        "                self.update_parameters(grads, get_lr(i))\n",
        "\n",
        "            i += 1 # increment epoch count\n",
        "\n",
        "            self.error(X, Y, train_errors)   ### appending the loss to train_errors\n",
        "            if Xval is not None:\n",
        "                self.error(Xval, Yval, val_errors)    ## appending the val_loss to errors\n",
        "\n",
        "                if val_errors[-1] < v:\n",
        "                    j = 0 # reset patience counter\n",
        "                    v = val_errors[-1] # update best loss\n",
        "                    best_params = self.copy_params() # save params\n",
        "                else:\n",
        "                    j += 1 # increment patience counter\n",
        "\n",
        "            if verbose and i%5 == 0:\n",
        "                log = f\"Epoch {i}..............Loss on train = {train_errors[-1]}\"\n",
        "                if Xval is not None:\n",
        "                    log += f\", Loss on val = {val_errors[-1]}\"\n",
        "                print(log)\n",
        "\n",
        "            if i >= max_epochs:\n",
        "                break # stop if epoch threshold crossed\n",
        "\n",
        "        if Xval is not None:\n",
        "            if i >= max_epochs and verbose:\n",
        "                print(\"Reached Epoch Cap without convergence....Terminating\")\n",
        "            elif verbose:\n",
        "                print(\"Early Stopping .............. Returning best weights\")\n",
        "\n",
        "            self.weights, self.biases = best_params # reset to best params\n",
        "\n",
        "        if verbose:\n",
        "            x = np.arange(1, len(train_errors)+1)\n",
        "            plt.plot(x, train_errors, label=\"Loss on Train\")\n",
        "            if Xval is not None:\n",
        "                plt.plot(x, val_errors, label=\"Loss on Val\")\n",
        "            plt.legend()\n",
        "            plt.title(f\"{loss_func} - Learning Rate = {lr}\")\n",
        "            plt.xlabel(\"Epoch\")\n",
        "            plt.ylabel(\"Loss\")\n",
        "            plt.show()\n",
        "        if Xval is not None:\n",
        "            return (train_errors, val_errors)\n",
        "        return train_errors\n",
        "\n",
        "    def predict(self, x):\n",
        "        y_pred, _, _ = self.forward(x)\n",
        "        return np.round(y_pred)"
      ]
    },
    {
      "cell_type": "code",
      "execution_count": null,
      "metadata": {
        "id": "JAO4ISfMEv5h"
      },
      "outputs": [],
      "source": [
        "D_in, H1, H2, D_out = 784, 200, 100, 1\n",
        "neurons = [D_in, H1, H2, D_out] # list of number of neurons in the layers sequentially.\n",
        "activation_functions = ['linear','linear','linear'] # activations in each layer (Note: the input layer does not have any activation)\n",
        "nn_bin = Neural_Network(neurons, activation_functions)"
      ]
    },
    {
      "cell_type": "code",
      "execution_count": null,
      "metadata": {
        "colab": {
          "base_uri": "https://localhost:8080/"
        },
        "id": "kX1c_NUey3Qv",
        "outputId": "3bd3ff39-40d6-420c-955a-e5b4f8b662cf"
      },
      "outputs": [
        {
          "data": {
            "text/plain": [
              "(10132,)"
            ]
          },
          "execution_count": 71,
          "metadata": {},
          "output_type": "execute_result"
        }
      ],
      "source": [
        "X_train_bin[0].shape"
      ]
    },
    {
      "cell_type": "code",
      "execution_count": null,
      "metadata": {
        "colab": {
          "base_uri": "https://localhost:8080/",
          "height": 287
        },
        "id": "ahFB7zZRE1eb",
        "outputId": "8098e89e-01a1-45e3-9615-18e01856bdaa"
      },
      "outputs": [
        {
          "ename": "ValueError",
          "evalue": "shapes (100,200) and (784,10) not aligned: 200 (dim 1) != 784 (dim 0)",
          "output_type": "error",
          "traceback": [
            "\u001b[0;31m---------------------------------------------------------------------------\u001b[0m",
            "\u001b[0;31mValueError\u001b[0m                                Traceback (most recent call last)",
            "\u001b[0;32m<ipython-input-72-2c3ea2c6dce4>\u001b[0m in \u001b[0;36m<cell line: 1>\u001b[0;34m()\u001b[0m\n\u001b[0;32m----> 1\u001b[0;31m \u001b[0mlosses\u001b[0m \u001b[0;34m=\u001b[0m \u001b[0mnn_bin\u001b[0m\u001b[0;34m.\u001b[0m\u001b[0mtrain\u001b[0m\u001b[0;34m(\u001b[0m\u001b[0mX_train_bin\u001b[0m\u001b[0;34m,\u001b[0m \u001b[0mY_train_bin\u001b[0m\u001b[0;34m,\u001b[0m \u001b[0mbatch_size\u001b[0m\u001b[0;34m=\u001b[0m\u001b[0;36m10\u001b[0m\u001b[0;34m,\u001b[0m \u001b[0mlr\u001b[0m\u001b[0;34m=\u001b[0m\u001b[0;36m1e-2\u001b[0m\u001b[0;34m,\u001b[0m \u001b[0mmax_epochs\u001b[0m\u001b[0;34m=\u001b[0m\u001b[0;36m50\u001b[0m\u001b[0;34m,\u001b[0m \u001b[0mXval\u001b[0m \u001b[0;34m=\u001b[0m \u001b[0mX_val_bin\u001b[0m\u001b[0;34m,\u001b[0m \u001b[0mYval\u001b[0m \u001b[0;34m=\u001b[0m \u001b[0mY_val_bin\u001b[0m\u001b[0;34m,\u001b[0m \u001b[0mverbose\u001b[0m\u001b[0;34m=\u001b[0m \u001b[0;32mTrue\u001b[0m\u001b[0;34m)\u001b[0m\u001b[0;34m\u001b[0m\u001b[0;34m\u001b[0m\u001b[0m\n\u001b[0m",
            "\u001b[0;32m<ipython-input-69-2b17b73b093b>\u001b[0m in \u001b[0;36mtrain\u001b[0;34m(self, X, Y, lr, max_epochs, patience, batch_size, n_classes, onehotencoded, loss_func, Xval, Yval, verbose)\u001b[0m\n\u001b[1;32m    213\u001b[0m \u001b[0;34m\u001b[0m\u001b[0m\n\u001b[1;32m    214\u001b[0m                 \u001b[0;31m#do forward pass\u001b[0m\u001b[0;34m\u001b[0m\u001b[0;34m\u001b[0m\u001b[0m\n\u001b[0;32m--> 215\u001b[0;31m                 \u001b[0my\u001b[0m\u001b[0;34m,\u001b[0m \u001b[0mzs\u001b[0m\u001b[0;34m,\u001b[0m \u001b[0mactivations\u001b[0m \u001b[0;34m=\u001b[0m \u001b[0mself\u001b[0m\u001b[0;34m.\u001b[0m\u001b[0mforward\u001b[0m\u001b[0;34m(\u001b[0m\u001b[0mX_batch\u001b[0m\u001b[0;34m)\u001b[0m\u001b[0;34m\u001b[0m\u001b[0;34m\u001b[0m\u001b[0m\n\u001b[0m\u001b[1;32m    216\u001b[0m \u001b[0;34m\u001b[0m\u001b[0m\n\u001b[1;32m    217\u001b[0m                 \u001b[0;31m#compute gradients using backpropagation\u001b[0m\u001b[0;34m\u001b[0m\u001b[0;34m\u001b[0m\u001b[0m\n",
            "\u001b[0;32m<ipython-input-69-2b17b73b093b>\u001b[0m in \u001b[0;36mforward\u001b[0;34m(self, x)\u001b[0m\n\u001b[1;32m     71\u001b[0m \u001b[0;34m\u001b[0m\u001b[0m\n\u001b[1;32m     72\u001b[0m             \u001b[0;31m#\u001b[0m\u001b[0;34m\u001b[0m\u001b[0;34m\u001b[0m\u001b[0m\n\u001b[0;32m---> 73\u001b[0;31m             \u001b[0mz\u001b[0m \u001b[0;34m=\u001b[0m \u001b[0mnp\u001b[0m\u001b[0;34m.\u001b[0m\u001b[0mdot\u001b[0m\u001b[0;34m(\u001b[0m\u001b[0mw\u001b[0m\u001b[0;34m,\u001b[0m\u001b[0mx\u001b[0m\u001b[0;34m)\u001b[0m \u001b[0;34m+\u001b[0m \u001b[0mb\u001b[0m\u001b[0;34m\u001b[0m\u001b[0;34m\u001b[0m\u001b[0m\n\u001b[0m\u001b[1;32m     74\u001b[0m             \u001b[0;31m#\u001b[0m\u001b[0;34m\u001b[0m\u001b[0;34m\u001b[0m\u001b[0m\n\u001b[1;32m     75\u001b[0m \u001b[0;34m\u001b[0m\u001b[0m\n",
            "\u001b[0;31mValueError\u001b[0m: shapes (100,200) and (784,10) not aligned: 200 (dim 1) != 784 (dim 0)"
          ]
        }
      ],
      "source": [
        "losses = nn_bin.train(X_train_bin, Y_train_bin, batch_size=10, lr=1e-2, max_epochs=50, Xval = X_val_bin, Yval = Y_val_bin, verbose= True)"
      ]
    },
    {
      "cell_type": "code",
      "execution_count": null,
      "metadata": {
        "id": "uRDGhE1pE_0k"
      },
      "outputs": [],
      "source": []
    }
  ],
  "metadata": {
    "colab": {
      "provenance": []
    },
    "kernelspec": {
      "display_name": "Python 3",
      "name": "python3"
    },
    "language_info": {
      "name": "python"
    }
  },
  "nbformat": 4,
  "nbformat_minor": 0
}
