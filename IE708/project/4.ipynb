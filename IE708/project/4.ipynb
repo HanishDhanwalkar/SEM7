{
 "cells": [
  {
   "cell_type": "code",
   "execution_count": 72,
   "metadata": {},
   "outputs": [],
   "source": [
    "import numpy as np\n",
    "import random"
   ]
  },
  {
   "cell_type": "code",
   "execution_count": 102,
   "metadata": {},
   "outputs": [],
   "source": [
    "W_z = 0.2\n",
    "W_u = 0.8"
   ]
  },
  {
   "cell_type": "code",
   "execution_count": null,
   "metadata": {},
   "outputs": [],
   "source": [
    "def simulate_data():\n",
    "    # Initial state\n",
    "    states = [[10, 0]]  # Tumor size, side effects\n",
    "    actions = []\n",
    "    for t in range(20):\n",
    "        current_state = states[-1]\n",
    "        \n",
    "        # if t < 5:  \n",
    "        if t % 3 ==0:\n",
    "        # if random.random() < 0.5:  \n",
    "            action = 1\n",
    "            next_state = [current_state[0] * W_u, current_state[1] + W_z]\n",
    "        else: \n",
    "            action = 0\n",
    "            next_state = current_state\n",
    "            \n",
    "            \n",
    "        actions.append(action)\n",
    "        states.append(next_state)\n",
    "    return states[:-1], actions\n",
    "\n",
    "# Feature map (counterfactuals)\n",
    "def feature_map(state, action):\n",
    "    tumor, side_effects = state\n",
    "    if action == 1:  # Treatment\n",
    "        return [tumor * W_u, side_effects + W_z]\n",
    "    else:  # No treatment\n",
    "        return [tumor, side_effects]"
   ]
  },
  {
   "cell_type": "code",
   "execution_count": 110,
   "metadata": {},
   "outputs": [],
   "source": [
    "def batch_max_margin_cirl(states, actions, max_iters=10, epsilon=1e-3):\n",
    "    \"\"\"\n",
    "    This function implements the CIRL algorithm for batched data.\n",
    "    \n",
    "    Args:\n",
    "        states (list): List of states.\n",
    "        actions (list): List of actions.\n",
    "        max_iters (int, optional): Maximum number of iterations. Defaults to 10.\n",
    "        epsilon (float, optional): Convergence threshold. Defaults to 1e-3.\n",
    "    \n",
    "    Returns:\n",
    "        tuple: A tuple containing the final reward weights, policies, and feature expectations.\n",
    "    \"\"\"\n",
    "    feature_expectations = []\n",
    "    policies = []\n",
    "    w = np.random.rand(2)  # Random initial reward weights\n",
    "\n",
    "    # Compute expert features\n",
    "    expert_features = np.mean([feature_map(s, a) for s, a in zip(states, actions)], axis=0)\n",
    "\n",
    "    for _ in range(max_iters):\n",
    "        # Compute feature expectations for current policy\n",
    "        policy_features = np.array([\n",
    "            np.dot(w, feature_map(state, np.argmax([np.dot(w, feature_map(state, a)) for a in [0, 1]])))\n",
    "            for state in states\n",
    "        ])\n",
    "        policy_features = np.mean(policy_features, axis=0)\n",
    "\n",
    "        # Append to policies and feature expectations\n",
    "        policies.append(w.copy())\n",
    "        feature_expectations.append(policy_features)\n",
    "\n",
    "        # Orthogonal projection\n",
    "        difference = expert_features - policy_features\n",
    "        projection = np.dot(difference, difference) / np.dot(difference, difference) if np.linalg.norm(difference) else 0\n",
    "        w += projection * difference\n",
    "\n",
    "        # Check convergence\n",
    "        if np.linalg.norm(expert_features - policy_features) < epsilon:\n",
    "            break\n",
    "\n",
    "    return w, policies, feature_expectations# CIRL algorithm\n",
    "def batch_max_margin_cirl(states, actions, max_iters=10, epsilon=1e-3):\n",
    "    feature_expectations = []\n",
    "    policies = []\n",
    "    w = np.random.rand(2)  # Random initial reward weights\n",
    "    expert_features = np.mean([feature_map(s, a) for s, a in zip(states, actions)], axis=0)\n",
    "\n",
    "    for _ in range(max_iters):\n",
    "        # Compute feature expectations for current policy\n",
    "        policy_features = []\n",
    "        for state in states:\n",
    "            action_values = [np.dot(w, feature_map(state, a)) for a in [0, 1]]\n",
    "            best_action = np.argmax(action_values)\n",
    "            policy_features.append(feature_map(state, best_action))\n",
    "        policy_features = np.mean(policy_features, axis=0)\n",
    "\n",
    "        # Append to policies and feature expectations\n",
    "        policies.append(w.copy())\n",
    "        for policy in policies:\n",
    "            print(policy)\n",
    "        feature_expectations.append(policy_features)\n",
    "\n",
    "        # Orthogonal projection\n",
    "        difference = expert_features - policy_features\n",
    "        projection = np.dot(difference, difference) / np.dot(difference, difference)\n",
    "        \n",
    "        w += projection * difference\n",
    "\n",
    "        # Check convergence\n",
    "        if np.linalg.norm(expert_features - policy_features) < epsilon:\n",
    "            break\n",
    "\n",
    "    return w, policies, feature_expectations\n"
   ]
  },
  {
   "cell_type": "code",
   "execution_count": 111,
   "metadata": {},
   "outputs": [
    {
     "name": "stdout",
     "output_type": "stream",
     "text": [
      "[[10, 0], [8.0, 0.2], [8.0, 0.2], [8.0, 0.2], [6.4, 0.4], [6.4, 0.4], [6.4, 0.4], [5.120000000000001, 0.6000000000000001], [5.120000000000001, 0.6000000000000001], [5.120000000000001, 0.6000000000000001], [4.096000000000001, 0.8], [4.096000000000001, 0.8], [4.096000000000001, 0.8], [3.276800000000001, 1.0], [3.276800000000001, 1.0], [3.276800000000001, 1.0], [2.621440000000001, 1.2], [2.621440000000001, 1.2], [2.621440000000001, 1.2], [2.097152000000001, 1.4]]\n",
      "[1, 0, 0, 1, 0, 0, 1, 0, 0, 1, 0, 0, 1, 0, 0, 1, 0, 0, 1, 0]\n"
     ]
    }
   ],
   "source": [
    "# Run the toy example\n",
    "states, actions = simulate_data()\n",
    "print(states)\n",
    "print(actions)"
   ]
  },
  {
   "cell_type": "code",
   "execution_count": 112,
   "metadata": {},
   "outputs": [
    {
     "name": "stdout",
     "output_type": "stream",
     "text": [
      "[0.38153405 0.83379892]\n",
      "[0.38153405 0.83379892]\n",
      "[0.00736317 0.89379892]\n",
      "[0.38153405 0.83379892]\n",
      "[0.00736317 0.89379892]\n",
      "[0.61861949 0.76379892]\n",
      "[0.38153405 0.83379892]\n",
      "[0.00736317 0.89379892]\n",
      "[0.61861949 0.76379892]\n",
      "[0.22347709 0.83379892]\n",
      "[0.38153405 0.83379892]\n",
      "[0.00736317 0.89379892]\n",
      "[0.61861949 0.76379892]\n",
      "[0.22347709 0.83379892]\n",
      "[0.02625341 0.83379892]\n",
      "[0.38153405 0.83379892]\n",
      "[0.00736317 0.89379892]\n",
      "[0.61861949 0.76379892]\n",
      "[0.22347709 0.83379892]\n",
      "[0.02625341 0.83379892]\n",
      "[0.63750973 0.70379892]\n",
      "[0.38153405 0.83379892]\n",
      "[0.00736317 0.89379892]\n",
      "[0.61861949 0.76379892]\n",
      "[0.22347709 0.83379892]\n",
      "[0.02625341 0.83379892]\n",
      "[0.63750973 0.70379892]\n",
      "[0.24236733 0.77379892]\n",
      "[0.38153405 0.83379892]\n",
      "[0.00736317 0.89379892]\n",
      "[0.61861949 0.76379892]\n",
      "[0.22347709 0.83379892]\n",
      "[0.02625341 0.83379892]\n",
      "[0.63750973 0.70379892]\n",
      "[0.24236733 0.77379892]\n",
      "[-0.05316035  0.80379892]\n",
      "[0.38153405 0.83379892]\n",
      "[0.00736317 0.89379892]\n",
      "[0.61861949 0.76379892]\n",
      "[0.22347709 0.83379892]\n",
      "[0.02625341 0.83379892]\n",
      "[0.63750973 0.70379892]\n",
      "[0.24236733 0.77379892]\n",
      "[-0.05316035  0.80379892]\n",
      "[0.55809597 0.67379892]\n",
      "[0.38153405 0.83379892]\n",
      "[0.00736317 0.89379892]\n",
      "[0.61861949 0.76379892]\n",
      "[0.22347709 0.83379892]\n",
      "[0.02625341 0.83379892]\n",
      "[0.63750973 0.70379892]\n",
      "[0.24236733 0.77379892]\n",
      "[-0.05316035  0.80379892]\n",
      "[0.55809597 0.67379892]\n",
      "[0.16295357 0.74379892]\n"
     ]
    }
   ],
   "source": [
    "reward_weights, policies, feature_expectations = batch_max_margin_cirl(states, actions)\n",
    "\n"
   ]
  },
  {
   "cell_type": "code",
   "execution_count": 109,
   "metadata": {},
   "outputs": [
    {
     "name": "stdout",
     "output_type": "stream",
     "text": [
      "Learned Reward Weights: [0.17007761 0.73421491]\n"
     ]
    }
   ],
   "source": [
    "print(\"Learned Reward Weights:\", reward_weights)"
   ]
  },
  {
   "cell_type": "code",
   "execution_count": null,
   "metadata": {},
   "outputs": [],
   "source": []
  }
 ],
 "metadata": {
  "kernelspec": {
   "display_name": "base",
   "language": "python",
   "name": "python3"
  },
  "language_info": {
   "codemirror_mode": {
    "name": "ipython",
    "version": 3
   },
   "file_extension": ".py",
   "mimetype": "text/x-python",
   "name": "python",
   "nbconvert_exporter": "python",
   "pygments_lexer": "ipython3",
   "version": "3.11.7"
  }
 },
 "nbformat": 4,
 "nbformat_minor": 2
}
