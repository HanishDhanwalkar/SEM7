{
 "cells": [
  {
   "cell_type": "code",
   "execution_count": 4,
   "metadata": {},
   "outputs": [],
   "source": [
    "import numpy as np\n",
    "import pandas as pd\n"
   ]
  },
  {
   "cell_type": "code",
   "execution_count": 2,
   "metadata": {},
   "outputs": [],
   "source": [
    "# Parameters for the simulation\n",
    "T = 10  # Number of time steps\n",
    "U0 = 100  # Initial tumor volume\n",
    "Z0 = 10   # Initial side effect level\n",
    "alpha = 5  # Tumor reduction rate with treatment\n",
    "beta = 3   # Side effect increase rate with treatment\n",
    "sigma = 2  # Standard deviation for noise\n",
    "w_u = 1.0  # Weight for tumor reduction\n",
    "w_z = -0.5  # Weight for minimizing side effects"
   ]
  },
  {
   "cell_type": "code",
   "execution_count": 6,
   "metadata": {},
   "outputs": [],
   "source": [
    "# Initialize variables\n",
    "time = np.arange(T + 1)\n",
    "U_t = [U0]  # Tumor volume trajectory\n",
    "Z_t = [Z0]  # Side effects trajectory\n",
    "actions = []  # Actions taken (1 for treatment, 0 for no treatment)\n",
    "counterfactual_U = []  # Tumor volume if no treatment\n",
    "counterfactual_Z = []  # Side effects if no treatment\n"
   ]
  },
  {
   "cell_type": "code",
   "execution_count": 7,
   "metadata": {},
   "outputs": [],
   "source": [
    "\n",
    "# Generate the trajectory\n",
    "for t in range(T):\n",
    "    # Random noise\n",
    "    epsilon_U = np.random.normal(0, sigma)\n",
    "    epsilon_Z = np.random.normal(0, sigma)\n",
    "    \n",
    "    # Action policy: Treat if tumor volume > 50, else no treatment\n",
    "    action = 1 if U_t[-1] > 50 else 0\n",
    "    actions.append(action)\n",
    "    \n",
    "    # Transition equations\n",
    "    U_next = U_t[-1] - alpha * action + epsilon_U\n",
    "    Z_next = Z_t[-1] + beta * action + epsilon_Z\n",
    "    \n",
    "    # Counterfactuals: Assume no treatment\n",
    "    U_counter = U_t[-1] + epsilon_U\n",
    "    Z_counter = Z_t[-1] + epsilon_Z\n",
    "    \n",
    "    # Append to trajectories\n",
    "    U_t.append(U_next)\n",
    "    Z_t.append(Z_next)\n",
    "    counterfactual_U.append(U_counter)\n",
    "    counterfactual_Z.append(Z_counter)"
   ]
  },
  {
   "cell_type": "code",
   "execution_count": 8,
   "metadata": {},
   "outputs": [],
   "source": [
    "\n",
    "# Add placeholders for the final step\n",
    "actions.append(None)  # Action for the last step is undefined\n",
    "counterfactual_U.append(None)\n",
    "counterfactual_Z.append(None)\n"
   ]
  },
  {
   "cell_type": "code",
   "execution_count": 10,
   "metadata": {},
   "outputs": [
    {
     "name": "stdout",
     "output_type": "stream",
     "text": [
      "    Time  Tumor_Volume  Side_Effects  Action  Counterfactual_Tumor  \\\n",
      "0      0    100.000000     10.000000     1.0             99.088506   \n",
      "1      1     94.088506      8.352882     1.0             93.901148   \n",
      "2      2     88.901148      9.008052     1.0             87.047254   \n",
      "3      3     82.047254     14.577114     1.0             79.366000   \n",
      "4      4     74.366000     17.406699     1.0             69.968092   \n",
      "5      5     64.968092     14.330202     1.0             65.082606   \n",
      "6      6     60.082606     17.632242     1.0             57.494707   \n",
      "7      7     52.494707     20.841981     1.0             55.012794   \n",
      "8      8     50.012794     20.930099     1.0             46.743068   \n",
      "9      9     41.743068     25.527158     0.0             41.798904   \n",
      "10    10     41.798904     23.702560     NaN                   NaN   \n",
      "\n",
      "    Counterfactual_Side_Effects  \n",
      "0                      5.352882  \n",
      "1                      6.008052  \n",
      "2                     11.577114  \n",
      "3                     14.406699  \n",
      "4                     11.330202  \n",
      "5                     14.632242  \n",
      "6                     17.841981  \n",
      "7                     17.930099  \n",
      "8                     22.527158  \n",
      "9                     23.702560  \n",
      "10                          NaN  \n"
     ]
    }
   ],
   "source": [
    "\n",
    "# Combine into a DataFrame with corrected lengths\n",
    "data = pd.DataFrame({\n",
    "    \"Time\": time,\n",
    "    \"Tumor_Volume\": U_t,\n",
    "    \"Side_Effects\": Z_t,\n",
    "    \"Action\": actions,\n",
    "    \"Counterfactual_Tumor\": counterfactual_U,\n",
    "    \"Counterfactual_Side_Effects\": counterfactual_Z\n",
    "})\n",
    "\n",
    "print(data)\n"
   ]
  },
  {
   "cell_type": "code",
   "execution_count": null,
   "metadata": {},
   "outputs": [],
   "source": []
  }
 ],
 "metadata": {
  "kernelspec": {
   "display_name": "base",
   "language": "python",
   "name": "python3"
  },
  "language_info": {
   "codemirror_mode": {
    "name": "ipython",
    "version": 3
   },
   "file_extension": ".py",
   "mimetype": "text/x-python",
   "name": "python",
   "nbconvert_exporter": "python",
   "pygments_lexer": "ipython3",
   "version": "3.11.7"
  }
 },
 "nbformat": 4,
 "nbformat_minor": 2
}
